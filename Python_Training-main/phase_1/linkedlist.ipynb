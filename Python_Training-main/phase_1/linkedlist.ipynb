{
 "cells": [
  {
   "cell_type": "code",
   "execution_count": 15,
   "metadata": {},
   "outputs": [
    {
     "name": "stdout",
     "output_type": "stream",
     "text": [
      "[[1, <__main__.node object at 0x000002B1F0CD25D0>], [2, <__main__.node object at 0x000002B1F0CD2610>], [3, None]]\n"
     ]
    }
   ],
   "source": [
    "class node:\n",
    "    def __init__(self,data):\n",
    "        self.data = data\n",
    "        self.next = None\n",
    "o = node(1)\n",
    "o1 = node(2)\n",
    "o2 = node(3)\n",
    "o.data = 1\n",
    "o.next = o1\n",
    "o1.data = 2\n",
    "o1.next = o2\n",
    "o2.data = 3\n",
    "\n",
    "\n",
    "l_list = [[o.data,o.next],[o1.data,o1.next],[o2.data,o2.next]]\n",
    "print(l_list)"
   ]
  },
  {
   "cell_type": "code",
   "execution_count": null,
   "metadata": {},
   "outputs": [],
   "source": []
  }
 ],
 "metadata": {
  "kernelspec": {
   "display_name": "Python 3",
   "language": "python",
   "name": "python3"
  },
  "language_info": {
   "codemirror_mode": {
    "name": "ipython",
    "version": 3
   },
   "file_extension": ".py",
   "mimetype": "text/x-python",
   "name": "python",
   "nbconvert_exporter": "python",
   "pygments_lexer": "ipython3",
   "version": "3.11.8"
  }
 },
 "nbformat": 4,
 "nbformat_minor": 2
}
