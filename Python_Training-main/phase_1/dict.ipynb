{
 "cells": [
  {
   "cell_type": "markdown",
   "metadata": {},
   "source": [
    "# Dictionary\n"
   ]
  },
  {
   "cell_type": "code",
   "execution_count": 5,
   "metadata": {},
   "outputs": [
    {
     "name": "stdout",
     "output_type": "stream",
     "text": [
      "{1: 2, 3: 4, 5: 6}\n"
     ]
    }
   ],
   "source": [
    "# taking dict as input\n",
    "n = int(input())\n",
    "d = {}\n",
    "for i in range(n):\n",
    "    key,value = map(int,input().split())\n",
    "    d[key] = value\n",
    "print(d)"
   ]
  },
  {
   "cell_type": "code",
   "execution_count": 3,
   "metadata": {},
   "outputs": [
    {
     "name": "stdout",
     "output_type": "stream",
     "text": [
      "dict_keys([1, 3, 5])\n",
      "dict_values([2, 4, 6])\n",
      "dict_items([(1, 2), (3, 4), (5, 6)])\n"
     ]
    }
   ],
   "source": [
    "# dictionary methods\n",
    "d = {1:2,3:4,5:6}\n",
    "print(d.keys())\n",
    "print(d.values())\n",
    "print(d.items())"
   ]
  },
  {
   "cell_type": "code",
   "execution_count": 17,
   "metadata": {},
   "outputs": [
    {
     "name": "stdout",
     "output_type": "stream",
     "text": [
      "1 2\n",
      "3 4\n",
      "5 6\n",
      "---\n",
      "1 2\n",
      "3 4\n",
      "5 6\n",
      "---\n"
     ]
    }
   ],
   "source": [
    "# printing key value pair of dict\n",
    "for i in d:\n",
    "    print(i,d[i])\n",
    "print(\"---\")\n",
    "for i,j in d.items():\n",
    "    print(i,j)\n",
    "print(\"---\")"
   ]
  },
  {
   "cell_type": "code",
   "execution_count": 30,
   "metadata": {},
   "outputs": [
    {
     "name": "stdout",
     "output_type": "stream",
     "text": [
      "6 {7: 9, 8: 8}\n",
      "(8, 8) {7: 9}\n",
      "9\n",
      "9 {7: 9}\n"
     ]
    }
   ],
   "source": [
    "# dictionary methods\n",
    "f = {6:6,7:9,8:8}\n",
    "print(f.pop(6),f)\n",
    "print(f.popitem(),f)\n",
    "print(f.get(7))\n",
    "print(f.setdefault(7),f)"
   ]
  },
  {
   "cell_type": "code",
   "execution_count": null,
   "metadata": {},
   "outputs": [],
   "source": [
    "  "
   ]
  }
 ],
 "metadata": {
  "kernelspec": {
   "display_name": "Python 3",
   "language": "python",
   "name": "python3"
  },
  "language_info": {
   "codemirror_mode": {
    "name": "ipython",
    "version": 3
   },
   "file_extension": ".py",
   "mimetype": "text/x-python",
   "name": "python",
   "nbconvert_exporter": "python",
   "pygments_lexer": "ipython3",
   "version": "3.11.8"
  }
 },
 "nbformat": 4,
 "nbformat_minor": 2
}
