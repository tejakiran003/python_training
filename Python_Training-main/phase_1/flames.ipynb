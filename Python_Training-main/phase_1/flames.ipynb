{
 "cells": [
  {
   "cell_type": "code",
   "execution_count": 1,
   "metadata": {},
   "outputs": [],
   "source": [
    "a = input().strip()\n",
    "b = input().strip()\n",
    "flames = [\"f\", \"l\", \"a\", \"m\", \"e\", \"s\"]\n",
    "s1 = list(a)\n",
    "s2 = list(b)\n",
    "for i in range(len(a)):\n",
    "    for j in range(len(b)):\n",
    "        if s1[i] == s2[j]:\n",
    "            s1[i] = \"0\"\n",
    "            s2[j] = \"0\"\n",
    "            break\n",
    "count = 0\n",
    "for i in a+b:\n",
    "    if i != \"0\":\n",
    "        count += 1\n",
    "while(len(flames)>1):\n",
    "    flames.pop(count%len(flames)-1)\n",
    "names = {\"f\" : \"Friend\", \"l\" : \"Lover\", \"a\" : \"Attraction\", \"m\" : \"Marriage\", \"e\" : \"Enemy\", \"s\" : \"Sister\"}\n",
    "print(a,\"and\",b,\"are\",names[flames[0]]+\"\\\"s\")\n",
    "       \n"
   ]
  },
  {
   "cell_type": "code",
   "execution_count": null,
   "metadata": {},
   "outputs": [],
   "source": []
  },
  {
   "cell_type": "code",
   "execution_count": null,
   "metadata": {},
   "outputs": [],
   "source": []
  }
 ],
 "metadata": {
  "kernelspec": {
   "display_name": "Python 3",
   "language": "python",
   "name": "python3"
  },
  "language_info": {
   "codemirror_mode": {
    "name": "ipython",
    "version": 3
   },
   "file_extension": ".py",
   "mimetype": "text/x-python",
   "name": "python",
   "nbconvert_exporter": "python",
   "pygments_lexer": "ipython3",
   "version": "3.12.2"
  }
 },
 "nbformat": 4,
 "nbformat_minor": 2
}
