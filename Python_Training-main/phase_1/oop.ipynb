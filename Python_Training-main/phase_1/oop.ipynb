{
 "cells": [
  {
   "cell_type": "markdown",
   "metadata": {},
   "source": [
    "# OOPS"
   ]
  },
  {
   "cell_type": "code",
   "execution_count": 1,
   "metadata": {},
   "outputs": [
    {
     "name": "stdout",
     "output_type": "stream",
     "text": [
      "area of rectangle is\n"
     ]
    },
    {
     "data": {
      "text/plain": [
       "8"
      ]
     },
     "execution_count": 1,
     "metadata": {},
     "output_type": "execute_result"
    }
   ],
   "source": [
    "class rectangle:\n",
    "    def __init__(self,l,b):\n",
    "        self.l = l\n",
    "        self.b = b\n",
    "    def area(self):\n",
    "        print(\"area of rectangle is\")\n",
    "        return self.l * self.b\n",
    "\n",
    "a = rectangle(2,4)\n",
    "a.area()\n"
   ]
  },
  {
   "cell_type": "code",
   "execution_count": 2,
   "metadata": {},
   "outputs": [],
   "source": [
    "class circle:\n",
    "    def __init__ (a,r):\n",
    "         a.r = r\n",
    "    def area(a):\n",
    "         return (a.r ** 2) * 3.14\n",
    "    \n",
    "    \n",
    "    "
   ]
  },
  {
   "cell_type": "code",
   "execution_count": 3,
   "metadata": {},
   "outputs": [
    {
     "name": "stdout",
     "output_type": "stream",
     "text": [
      "200.96\n"
     ]
    }
   ],
   "source": [
    "a = circle(8)\n",
    "print(a.area())"
   ]
  },
  {
   "cell_type": "code",
   "execution_count": 4,
   "metadata": {},
   "outputs": [
    {
     "name": "stdout",
     "output_type": "stream",
     "text": [
      "santosh -- cse\n"
     ]
    }
   ],
   "source": [
    "class student:\n",
    "    def __init__(self,name,branch):\n",
    "        self.n = name\n",
    "        self.b = branch\n",
    "    def print_stu(self):\n",
    "        print(self.n,\"--\",self.b)\n",
    "\n",
    "c = student(\"santosh\",\"cse\")\n",
    "c.print_stu()\n"
   ]
  },
  {
   "cell_type": "markdown",
   "metadata": {},
   "source": [
    "## Inheritance"
   ]
  },
  {
   "cell_type": "markdown",
   "metadata": {},
   "source": [
    "### single inheritance"
   ]
  },
  {
   "cell_type": "code",
   "execution_count": 5,
   "metadata": {},
   "outputs": [
    {
     "name": "stdout",
     "output_type": "stream",
     "text": [
      "9704562829\n"
     ]
    }
   ],
   "source": [
    "class student:\n",
    "    def __init__(self,name):\n",
    "        self.name = name\n",
    "    def studentd(self):\n",
    "        print(self.name)\n",
    "    def getname(self):\n",
    "        return self.name\n",
    "class phno(student):\n",
    "    def __init__(self,no:int):\n",
    "        self.no = no\n",
    "    def num(self):\n",
    "        #print(self.name)\n",
    "        print(self.no)\n",
    "b = student(\"varma\")\n",
    "a = phno(9704562829)\n",
    "a.num()\n",
    "\n",
    "\n"
   ]
  },
  {
   "cell_type": "markdown",
   "metadata": {},
   "source": [
    "### multiple inheritance"
   ]
  },
  {
   "cell_type": "code",
   "execution_count": 6,
   "metadata": {},
   "outputs": [
    {
     "name": "stdout",
     "output_type": "stream",
     "text": [
      "b1\n",
      "None\n"
     ]
    }
   ],
   "source": [
    "class a:\n",
    "    def a1(self):\n",
    "        print(\"a1\")\n",
    "    def a2(self):\n",
    "        print(\"a2\")\n",
    "class b:\n",
    "    def a1(self):\n",
    "        print(\"b1\")\n",
    "    def a2(self):\n",
    "        print(\"b2\")\n",
    "class c(b,a):\n",
    "    def c1(self):\n",
    "        print(\"c1\")\n",
    "    def c2(self):\n",
    "        print(\"c2\")\n",
    "\n",
    "A = a()\n",
    "B = b()\n",
    "C = c()\n",
    "print(C.a1())\n",
    "    \n",
    "\n"
   ]
  },
  {
   "cell_type": "code",
   "execution_count": 23,
   "metadata": {},
   "outputs": [
    {
     "name": "stdout",
     "output_type": "stream",
     "text": [
      "johnny johnny....\n",
      "yes papa...\n",
      "eating sugur\n",
      "No Papa\n",
      "telling lies....\n",
      "no Papa..\n",
      "open your mouth... ha..ha..ha\n"
     ]
    }
   ],
   "source": [
    "class ClassA():\n",
    "  \n",
    "  def first_method(self):\n",
    "    print(\"johnny johnny....\")\n",
    "  \n",
    "  def second_method(self):\n",
    "    print(\"yes papa...\")\n",
    "  \n",
    "  def third_method(self):\n",
    "    print(\"eating sugur\")\n",
    "\n",
    "class ClassB(ClassA):\n",
    "  \n",
    "  def second_method(self):\n",
    "    super().first_method()\n",
    "    super().second_method()\n",
    "    super().third_method()\n",
    "    print(\"No Papa\")\n",
    "  \n",
    "  def third_method(self):\n",
    "    print(\"telling lies....\")\n",
    "    \n",
    "class ClassC(ClassB):\n",
    "  \n",
    "  def first_method(self):\n",
    "    print(\"open your mouth... ha..ha..ha\")\n",
    "    \n",
    "  def second_method(self):\n",
    "    print(\"no Papa..\")\n",
    "  \n",
    "  def third_method(self):\n",
    "    super().second_method()\n",
    "    super().third_method()\n",
    "    self.second_method()\n",
    "\n",
    "obj_A = ClassA()\n",
    "obj_B = ClassB()\n",
    "obj_C = ClassC()\n",
    "obj_B.second_method()\n",
    "obj_B.third_method()\n",
    "obj_C.second_method()\n",
    "obj_C.first_method()\n"
   ]
  },
  {
   "cell_type": "markdown",
   "metadata": {},
   "source": [
    "## Variables"
   ]
  },
  {
   "cell_type": "code",
   "execution_count": 25,
   "metadata": {},
   "outputs": [
    {
     "name": "stdout",
     "output_type": "stream",
     "text": [
      "20\n",
      "11\n"
     ]
    }
   ],
   "source": [
    "# there are three types of variables in python:\n",
    "# 1.static variable -> it is a global variable \n",
    "# 2.instance variable -> declare in constructor then we will use in any func in a class\n",
    "# 3.local variable -> only have a access of declared function \n",
    "\n",
    "\n",
    "class sol:\n",
    "    # static variable\n",
    "    abc = 10\n",
    "    def __init__(self):\n",
    "           #instance variable\n",
    "           self.b = 1\n",
    "    def fun(self):\n",
    "        #local variable\n",
    "        a = 9\n",
    "        print(a + self.b + self.abc)\n",
    "    def printi(self):\n",
    "        print(self.abc + self.b)\n",
    "\n",
    "a = sol()\n",
    "a.fun()\n",
    "a.printi()\n",
    "\n",
    "\n",
    " "
   ]
  }
 ],
 "metadata": {
  "kernelspec": {
   "display_name": "Python 3",
   "language": "python",
   "name": "python3"
  },
  "language_info": {
   "codemirror_mode": {
    "name": "ipython",
    "version": 3
   },
   "file_extension": ".py",
   "mimetype": "text/x-python",
   "name": "python",
   "nbconvert_exporter": "python",
   "pygments_lexer": "ipython3",
   "version": "3.11.8"
  }
 },
 "nbformat": 4,
 "nbformat_minor": 2
}
