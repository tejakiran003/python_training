{
 "cells": [
  {
   "cell_type": "markdown",
   "metadata": {},
   "source": [
    "# Exception Handling"
   ]
  },
  {
   "cell_type": "code",
   "execution_count": 13,
   "metadata": {},
   "outputs": [
    {
     "name": "stdout",
     "output_type": "stream",
     "text": [
      "ZeroDivisionError\n",
      "90\n"
     ]
    }
   ],
   "source": [
    "try:\n",
    "   print(10//0)\n",
    "except ZeroDivisionError:\n",
    "   print(\"ZeroDivisionError\")\n",
    "finally:\n",
    "   print(90)\n",
    "\n"
   ]
  },
  {
   "cell_type": "code",
   "execution_count": 20,
   "metadata": {},
   "outputs": [
    {
     "name": "stdout",
     "output_type": "stream",
     "text": [
      "end of func\n",
      "Index Error\n",
      "end of finally\n"
     ]
    }
   ],
   "source": [
    "def fun(l):\n",
    "    try:\n",
    "        n=len(l)\n",
    "        o = l[0] // l[n]\n",
    "        print(o)\n",
    "    except ZeroDivisionError:\n",
    "        print(\"0 by division\")\n",
    "    except NameError:\n",
    "        print(\"name error\")\n",
    "    finally:\n",
    "        print(\"end of func\")\n",
    "\n",
    "\n",
    "try:\n",
    "    l= [1,2,3,4,5]\n",
    "    fun(l)\n",
    "except IndexError:\n",
    "    print(\"Index Error\")\n",
    "finally:\n",
    "    print(\"end of finally\")"
   ]
  },
  {
   "cell_type": "code",
   "execution_count": 16,
   "metadata": {},
   "outputs": [
    {
     "ename": "IndexError",
     "evalue": "bwqeglug",
     "output_type": "error",
     "traceback": [
      "\u001b[1;31m---------------------------------------------------------------------------\u001b[0m",
      "\u001b[1;31mIndexError\u001b[0m                                Traceback (most recent call last)",
      "Cell \u001b[1;32mIn[16], line 1\u001b[0m\n\u001b[1;32m----> 1\u001b[0m \u001b[38;5;28;01mraise\u001b[39;00m \u001b[38;5;167;01mIndexError\u001b[39;00m(\u001b[38;5;124m\"\u001b[39m\u001b[38;5;124mbwqeglug\u001b[39m\u001b[38;5;124m\"\u001b[39m)\n",
      "\u001b[1;31mIndexError\u001b[0m: bwqeglug"
     ]
    }
   ],
   "source": [
    "raise IndexError(\"bwqeglug\")"
   ]
  },
  {
   "cell_type": "markdown",
   "metadata": {},
   "source": [
    "# Function Declators"
   ]
  },
  {
   "cell_type": "code",
   "execution_count": 23,
   "metadata": {},
   "outputs": [
    {
     "name": "stdout",
     "output_type": "stream",
     "text": [
      "VARMA\n"
     ]
    }
   ],
   "source": [
    "def fun(s:str)->int:\n",
    "    return s.upper()\n",
    "x = fun\n",
    "print(x(\"varma\"))"
   ]
  },
  {
   "cell_type": "code",
   "execution_count": 27,
   "metadata": {},
   "outputs": [
    {
     "name": "stdout",
     "output_type": "stream",
     "text": [
      "hello ,world\n"
     ]
    }
   ],
   "source": [
    "def function(s:str)->str:\n",
    "    return s.strip()\n",
    "y = function\n",
    "print(y(\"          hello ,world            \"))\n"
   ]
  },
  {
   "cell_type": "markdown",
   "metadata": {},
   "source": [
    "# Function as Parameter"
   ]
  },
  {
   "cell_type": "code",
   "execution_count": 28,
   "metadata": {},
   "outputs": [
    {
     "name": "stdout",
     "output_type": "stream",
     "text": [
      "SANTOSH\n",
      "santosh\n"
     ]
    }
   ],
   "source": [
    "def u(s):\n",
    "     return  s.upper()\n",
    "def sm(s):\n",
    "     return s.lower()\n",
    "def fun(func,s):\n",
    "     return func(s)\n",
    "\n",
    "print(fun(u,\"santosh\"))\n",
    "print(fun(sm,\"santosh\"))"
   ]
  },
  {
   "cell_type": "markdown",
   "metadata": {},
   "source": [
    "# Nested Functions"
   ]
  },
  {
   "cell_type": "code",
   "execution_count": 32,
   "metadata": {},
   "outputs": [
    {
     "name": "stdout",
     "output_type": "stream",
     "text": [
      "hello world\n"
     ]
    }
   ],
   "source": [
    "def fun(s1):\n",
    "    def cout(s2):\n",
    "        return s1 + s2\n",
    "    return cout\n",
    "x = fun(\"hello\")\n",
    "print(x(\" world\"))"
   ]
  },
  {
   "cell_type": "markdown",
   "metadata": {},
   "source": [
    "## Nested Functions in Class"
   ]
  },
  {
   "cell_type": "code",
   "execution_count": 53,
   "metadata": {},
   "outputs": [
    {
     "name": "stdout",
     "output_type": "stream",
     "text": [
      "santoshvarma 9704562829\n"
     ]
    }
   ],
   "source": [
    "#example\n",
    "class solution:\n",
    " def __init__(self,name,phno:int):\n",
    "    self.name = name\n",
    "    self.phno = phno\n",
    " def student(self):\n",
    "    def student_phno():\n",
    "        return self.name + \" \" + self.phno\n",
    "    return student_phno\n",
    "s = solution(\"santoshvarma\",\"9704562829\")\n",
    "x = s.student()\n",
    "print(x())\n",
    "\n",
    "\n"
   ]
  },
  {
   "cell_type": "code",
   "execution_count": null,
   "metadata": {},
   "outputs": [],
   "source": []
  }
 ],
 "metadata": {
  "kernelspec": {
   "display_name": "Python 3",
   "language": "python",
   "name": "python3"
  },
  "language_info": {
   "codemirror_mode": {
    "name": "ipython",
    "version": 3
   },
   "file_extension": ".py",
   "mimetype": "text/x-python",
   "name": "python",
   "nbconvert_exporter": "python",
   "pygments_lexer": "ipython3",
   "version": "3.11.8"
  }
 },
 "nbformat": 4,
 "nbformat_minor": 2
}
